{
 "cells": [
  {
   "cell_type": "code",
   "execution_count": 0,
   "metadata": {
    "application/vnd.databricks.v1+cell": {
     "cellMetadata": {
      "byteLimit": 2048000,
      "rowLimit": 10000
     },
     "inputWidgets": {},
     "nuid": "af4feba5-ea17-42f9-81e6-c708de60cb48",
     "showTitle": false,
     "tableResultSettingsMap": {},
     "title": ""
    }
   },
   "outputs": [],
   "source": [
    "dbutils.secrets.listScopes()"
   ]
  },
  {
   "cell_type": "code",
   "execution_count": 0,
   "metadata": {
    "application/vnd.databricks.v1+cell": {
     "cellMetadata": {
      "byteLimit": 2048000,
      "rowLimit": 10000
     },
     "inputWidgets": {},
     "nuid": "ed230887-6941-46dd-ba10-e14b4b4fe38d",
     "showTitle": false,
     "tableResultSettingsMap": {},
     "title": ""
    }
   },
   "outputs": [],
   "source": [
    "df=dbutils.secrets.get(scope=\"youtube-db-scope\",key=\"youtube-key-vault\")"
   ]
  },
  {
   "cell_type": "code",
   "execution_count": 0,
   "metadata": {
    "application/vnd.databricks.v1+cell": {
     "cellMetadata": {
      "byteLimit": 2048000,
      "rowLimit": 10000
     },
     "inputWidgets": {},
     "nuid": "dbea20a3-5132-4aa8-9b6f-24abc861fd25",
     "showTitle": false,
     "tableResultSettingsMap": {},
     "title": ""
    }
   },
   "outputs": [],
   "source": [
    "configs = {\"fs.azure.account.auth.type\": \"OAuth\",\n",
    "          \"fs.azure.account.oauth.provider.type\": \"org.apache.hadoop.fs.azurebfs.oauth2.ClientCredsTokenProvider\",\n",
    "          \"fs.azure.account.oauth2.client.id\": \"d1df4878-b934-4df1-8357-06dd1a8ee374\",\n",
    "          \"fs.azure.account.oauth2.client.secret\": dbutils.secrets.get(scope=\"youtube-db-scope\",key=\"youtube-key-vault\"),\n",
    "          \"fs.azure.account.oauth2.client.endpoint\": \"https://login.microsoftonline.com/fdc798aa-6f15-4e72-bf4a-6c813690fc75/oauth2/token\"}\n",
    "\n",
    "# Optionally, you can add <directory-name> to the source URI of your mount point.\n",
    "dbutils.fs.mount(\n",
    "  source = \"abfss://youtube-data-analysis@adlsgen2youtube.dfs.core.windows.net/\",\n",
    "  mount_point = \"/mnt/youtube-analysis-data\",\n",
    "  extra_configs = configs)"
   ]
  },
  {
   "cell_type": "code",
   "execution_count": 0,
   "metadata": {
    "application/vnd.databricks.v1+cell": {
     "cellMetadata": {
      "byteLimit": 2048000,
      "rowLimit": 10000
     },
     "inputWidgets": {},
     "nuid": "3a71b774-fa9a-4bfe-b8b8-c4ae76aa4b33",
     "showTitle": false,
     "tableResultSettingsMap": {},
     "title": ""
    }
   },
   "outputs": [],
   "source": [
    "%fs\n",
    "ls /mnt/youtube-analysis-data"
   ]
  },
  {
   "cell_type": "code",
   "execution_count": 0,
   "metadata": {
    "application/vnd.databricks.v1+cell": {
     "cellMetadata": {
      "byteLimit": 2048000,
      "rowLimit": 10000
     },
     "inputWidgets": {},
     "nuid": "2d1b3843-c1fb-4ed9-9acb-b995a3ab0e3c",
     "showTitle": false,
     "tableResultSettingsMap": {},
     "title": ""
    }
   },
   "outputs": [],
   "source": [
    "%fs\n",
    "ls dbfs:/mnt/youtube-analysis-data/transformed-data/statistics-reference-data/"
   ]
  },
  {
   "cell_type": "code",
   "execution_count": 0,
   "metadata": {
    "application/vnd.databricks.v1+cell": {
     "cellMetadata": {
      "byteLimit": 2048000,
      "rowLimit": 10000
     },
     "collapsed": true,
     "inputWidgets": {},
     "nuid": "dd784f87-81b1-44e7-a93e-74241a3d7645",
     "showTitle": false,
     "tableResultSettingsMap": {},
     "title": ""
    }
   },
   "outputs": [],
   "source": [
    "statisticsReferenceDF=spark.read.format('parquet').load('/mnt/youtube-analysis-data/transformed-data/statistics-reference-data/*')\n",
    "display(statisticsReferenceDF)"
   ]
  },
  {
   "cell_type": "code",
   "execution_count": 0,
   "metadata": {
    "application/vnd.databricks.v1+cell": {
     "cellMetadata": {
      "byteLimit": 2048000,
      "rowLimit": 10000
     },
     "collapsed": true,
     "inputWidgets": {},
     "nuid": "6452df7e-94c5-41f7-af80-2f90cac8d9b0",
     "showTitle": false,
     "tableResultSettingsMap": {},
     "title": ""
    }
   },
   "outputs": [],
   "source": [
    "from pyspark.sql.functions import input_file_name, regexp_extract\n"
   ]
  },
  {
   "cell_type": "code",
   "execution_count": 0,
   "metadata": {
    "application/vnd.databricks.v1+cell": {
     "cellMetadata": {
      "byteLimit": 2048000,
      "rowLimit": 10000
     },
     "inputWidgets": {},
     "nuid": "e98627de-2859-4e21-bbd6-1f6af47a4086",
     "showTitle": false,
     "tableResultSettingsMap": {},
     "title": ""
    }
   },
   "outputs": [],
   "source": [
    "statisticsReferenceDF=statisticsReferenceDF.withColumn('FileName', input_file_name())\n",
    "display(statisticsReferenceDF)"
   ]
  },
  {
   "cell_type": "code",
   "execution_count": 0,
   "metadata": {
    "application/vnd.databricks.v1+cell": {
     "cellMetadata": {
      "byteLimit": 2048000,
      "rowLimit": 10000
     },
     "inputWidgets": {},
     "nuid": "6b26d1a1-7402-4c7b-9807-38eb38d62a16",
     "showTitle": false,
     "tableResultSettingsMap": {},
     "title": ""
    }
   },
   "outputs": [],
   "source": [
    "statisticsReferenceDF=statisticsReferenceDF.withColumn('FileName', regexp_extract(\"FileName\", \"([^/]+$)\", 0))\n",
    "display(statisticsReferenceDF)"
   ]
  },
  {
   "cell_type": "code",
   "execution_count": 0,
   "metadata": {
    "application/vnd.databricks.v1+cell": {
     "cellMetadata": {
      "byteLimit": 2048000,
      "rowLimit": 10000
     },
     "inputWidgets": {},
     "nuid": "6353674c-80c6-4025-baa7-8fd81af1cafe",
     "showTitle": false,
     "tableResultSettingsMap": {},
     "title": ""
    }
   },
   "outputs": [],
   "source": [
    "from pyspark.sql.functions import substring\n",
    "statisticsReferenceDF=statisticsReferenceDF.withColumn('CountryCode', substring('FileName',1,2))\n",
    "display(statisticsReferenceDF)"
   ]
  },
  {
   "cell_type": "code",
   "execution_count": 0,
   "metadata": {
    "application/vnd.databricks.v1+cell": {
     "cellMetadata": {
      "byteLimit": 2048000,
      "rowLimit": 10000
     },
     "inputWidgets": {},
     "nuid": "5a484be7-bdcc-4c30-b37a-d6ea0d63ebad",
     "showTitle": false,
     "tableResultSettingsMap": {},
     "title": ""
    }
   },
   "outputs": [],
   "source": [
    "from pyspark.sql.functions import split\n",
    "statisticsReferenceDF=statisticsReferenceDF.withColumn('Platform', split('kind','#')[0]).withColumn('Category',split('kind','#')[1])\n",
    "display(statisticsReferenceDF)"
   ]
  },
  {
   "cell_type": "code",
   "execution_count": 0,
   "metadata": {
    "application/vnd.databricks.v1+cell": {
     "cellMetadata": {
      "byteLimit": 2048000,
      "rowLimit": 10000
     },
     "inputWidgets": {},
     "nuid": "4810a279-6a65-424d-9aa9-4bf3c2484635",
     "showTitle": false,
     "tableResultSettingsMap": {},
     "title": ""
    }
   },
   "outputs": [],
   "source": [
    "statisticsReferenceDF=statisticsReferenceDF.drop('kind')\n",
    "display(statisticsReferenceDF)"
   ]
  },
  {
   "cell_type": "code",
   "execution_count": 0,
   "metadata": {
    "application/vnd.databricks.v1+cell": {
     "cellMetadata": {
      "byteLimit": 2048000,
      "rowLimit": 10000
     },
     "inputWidgets": {},
     "nuid": "cab12358-4228-433c-bdf1-ef134b64a4d8",
     "showTitle": false,
     "tableResultSettingsMap": {},
     "title": ""
    }
   },
   "outputs": [],
   "source": [
    "from pyspark.sql.functions import col\n",
    "statisticsReferenceDF=statisticsReferenceDF.withColumn('id',col('id').cast('int'))\n",
    "display(statisticsReferenceDF)"
   ]
  },
  {
   "cell_type": "code",
   "execution_count": 0,
   "metadata": {
    "application/vnd.databricks.v1+cell": {
     "cellMetadata": {
      "byteLimit": 2048000,
      "rowLimit": 10000
     },
     "inputWidgets": {},
     "nuid": "e4275578-1000-4dce-9a80-a11bb6411c32",
     "showTitle": false,
     "tableResultSettingsMap": {},
     "title": ""
    }
   },
   "outputs": [],
   "source": [
    "from pyspark.sql.functions import regexp_replace\n",
    "statisticsReferenceDF=statisticsReferenceDF.withColumn('etag', regexp_replace('etag', '\"', '')).withColumn('category', regexp_replace('category', 'Category', ''))\n",
    "display(statisticsReferenceDF)"
   ]
  },
  {
   "cell_type": "code",
   "execution_count": 0,
   "metadata": {
    "application/vnd.databricks.v1+cell": {
     "cellMetadata": {
      "byteLimit": 2048000,
      "rowLimit": 10000
     },
     "inputWidgets": {},
     "nuid": "969874c3-4f2f-4b7b-9963-30d815cebc4c",
     "showTitle": false,
     "tableResultSettingsMap": {},
     "title": ""
    }
   },
   "outputs": [],
   "source": [
    "statisticsReferenceDataset=statisticsReferenceDF.select('CountryCode','id','title','category','Platform')\n",
    "display(statisticsReferenceDataset)"
   ]
  },
  {
   "cell_type": "code",
   "execution_count": 0,
   "metadata": {
    "application/vnd.databricks.v1+cell": {
     "cellMetadata": {
      "byteLimit": 2048000,
      "rowLimit": 10000
     },
     "inputWidgets": {},
     "nuid": "27872e6a-d097-4260-a4b4-8b03b212964c",
     "showTitle": false,
     "tableResultSettingsMap": {},
     "title": ""
    }
   },
   "outputs": [],
   "source": [
    "statisticsDF=spark.read.format('parquet').load('/mnt/youtube-analysis-data/transformed-data/raw-statistics/')\n",
    "display(statisticsDF) "
   ]
  },
  {
   "cell_type": "code",
   "execution_count": 0,
   "metadata": {
    "application/vnd.databricks.v1+cell": {
     "cellMetadata": {
      "byteLimit": 2048000,
      "rowLimit": 10000
     },
     "inputWidgets": {},
     "nuid": "bc31c8dc-b602-489d-b3cf-f31bd3a8927d",
     "showTitle": false,
     "tableResultSettingsMap": {},
     "title": ""
    }
   },
   "outputs": [],
   "source": [
    "from pyspark.sql.functions import to_date, col\n",
    "statisticsUSDF=statisticsUSDF.withColumn('trending_date', to_date(col('trending_date'), 'yy.dd.MM'))"
   ]
  },
  {
   "cell_type": "code",
   "execution_count": 0,
   "metadata": {
    "application/vnd.databricks.v1+cell": {
     "cellMetadata": {
      "byteLimit": 2048000,
      "rowLimit": 10000
     },
     "inputWidgets": {},
     "nuid": "267e9983-338b-4c6a-83c6-5c6f8145fa24",
     "showTitle": false,
     "tableResultSettingsMap": {},
     "title": ""
    }
   },
   "outputs": [],
   "source": [
    "from pyspark.sql.functions import date_format,to_timestamp\n",
    "statisticsUSDF=statisticsUSDF.withColumn('published_time', to_timestamp(to_timestamp(col('publish_time'), 'HH:mm:ss')))\\\n",
    "    .withColumn('publish_date', to_date(col('publish_time')))\n",
    "display(statisticsUSDF)"
   ]
  },
  {
   "cell_type": "code",
   "execution_count": 0,
   "metadata": {
    "application/vnd.databricks.v1+cell": {
     "cellMetadata": {
      "byteLimit": 2048000,
      "rowLimit": 10000
     },
     "inputWidgets": {},
     "nuid": "03530849-5dd6-4648-aa7d-79aa6a224c39",
     "showTitle": false,
     "tableResultSettingsMap": {},
     "title": ""
    }
   },
   "outputs": [],
   "source": [
    "from pyspark.sql.functions import upper,col\n",
    "statisticsUSDF=statisticsUSDF.withColumn('views', col('views').cast('int'))\\\n",
    "    .withColumn('likes', col('likes').cast('int'))\\\n",
    "    .withColumn('dislikes', col('dislikes').cast('int'))\\\n",
    "    .withColumn('comment_count', col('comment_count').cast('int'))\\\n",
    "    .withColumn('category_id', col('category_id').cast('int'))\\\n",
    "    .withColumn('region', upper('region'))\n",
    "\n",
    "display(statisticsUSDF)"
   ]
  },
  {
   "cell_type": "code",
   "execution_count": 0,
   "metadata": {
    "application/vnd.databricks.v1+cell": {
     "cellMetadata": {
      "byteLimit": 2048000,
      "rowLimit": 10000
     },
     "inputWidgets": {},
     "nuid": "2bf2bdfc-385c-47b2-b7c8-0b6408b4a1ac",
     "showTitle": false,
     "tableResultSettingsMap": {},
     "title": ""
    }
   },
   "outputs": [],
   "source": [
    "from pyspark.sql.functions import datediff,when\n",
    "statisticsUSDF=statisticsUSDF.withColumn(\n",
    "        \"time_period\",\n",
    "        when((col(\"published_time\") >= 5) & (col(\"published_time\") < 9), \"Early Morning\")\n",
    "        .when((col(\"published_time\") >= 9) & (col(\"published_time\") < 12), \"Morning\")\n",
    "        .when((col(\"published_time\") >= 12) & (col(\"published_time\") < 13), \"Noon\")\n",
    "        .when((col(\"published_time\") >= 13) & (col(\"published_time\") < 17), \"Afternoon\")\n",
    "        .when((col(\"published_time\") >= 17) & (col(\"published_time\") < 20), \"Evening\")\n",
    "        .when((col(\"published_time\") >= 20) & (col(\"published_time\") <= 23), \"Night\")\n",
    "        .otherwise(\"Late Night\")\n",
    "    )\\\n",
    "    .withColumn(\"publish_week_of_month\", date_format(col(\"publish_date\"), \"d\").cast(\"int\")) \\\n",
    "    .withColumn(\"trend_week_of_month\", date_format(col(\"trending_date\"), \"d\").cast(\"int\")) \\\n",
    "    .withColumn(\n",
    "        \"publish_week_of_month\",\n",
    "        when((col(\"publish_week_of_month\") <= 7), 1)\n",
    "        .when((col(\"publish_week_of_month\") >= 8) & (col(\"publish_week_of_month\") <= 14), 2)\n",
    "        .when((col(\"publish_week_of_month\") >= 15) & (col(\"publish_week_of_month\") <= 21), 3)\n",
    "        .when((col(\"publish_week_of_month\") >= 22) & (col(\"publish_week_of_month\") <= 28), 4)\n",
    "        .otherwise(5)  # For days 29-31\n",
    "    )\\\n",
    "    .withColumn(\n",
    "        \"trend_week_of_month\",\n",
    "        when((col(\"trend_week_of_month\") <= 7), 1)\n",
    "        .when((col(\"trend_week_of_month\") >= 8) & (col(\"trend_week_of_month\") <= 14), 2)\n",
    "        .when((col(\"trend_week_of_month\") >= 15) & (col(\"trend_week_of_month\") <= 21), 3)\n",
    "        .when((col(\"trend_week_of_month\") >= 22) & (col(\"trend_week_of_month\") <= 28), 4)\n",
    "        .otherwise(5)  # For days 29-31\n",
    "    )\\\n",
    "    .withColumn('trending_IN', datediff(col('trending_date'), col('publish_date')))\n",
    "display(statisticsUSDF)"
   ]
  },
  {
   "cell_type": "code",
   "execution_count": 0,
   "metadata": {
    "application/vnd.databricks.v1+cell": {
     "cellMetadata": {},
     "inputWidgets": {},
     "nuid": "ec285126-7ae5-491b-a4a3-d79b1e21a5a3",
     "showTitle": false,
     "tableResultSettingsMap": {},
     "title": ""
    }
   },
   "outputs": [],
   "source": [
    "statisticsUSDF=statisticsUSDF.withColumn('published_time', col('published_time').cast('timestamp')"
   ]
  },
  {
   "cell_type": "code",
   "execution_count": 0,
   "metadata": {
    "application/vnd.databricks.v1+cell": {
     "cellMetadata": {
      "byteLimit": 2048000,
      "rowLimit": 10000
     },
     "inputWidgets": {},
     "nuid": "67651ab0-0ea0-4967-9c1d-c6c56afad2d2",
     "showTitle": false,
     "tableResultSettingsMap": {},
     "title": ""
    }
   },
   "outputs": [],
   "source": [
    "statisticsDF=statisticsUSDF.select('region','category_id','title','channel_title','views','likes','dislikes','comment_count','comments_disabled','ratings_disabled','video_error_or_removed','publish_date','trending_date','published_time','time_period','publish_week_of_month','trend_week_of_month','trending_IN','tags','description')"
   ]
  },
  {
   "cell_type": "code",
   "execution_count": 0,
   "metadata": {
    "application/vnd.databricks.v1+cell": {
     "cellMetadata": {
      "byteLimit": 2048000,
      "rowLimit": 10000
     },
     "collapsed": true,
     "inputWidgets": {},
     "nuid": "ac37fefe-3d38-4227-9a1d-524b9017577d",
     "showTitle": false,
     "tableResultSettingsMap": {},
     "title": ""
    }
   },
   "outputs": [],
   "source": [
    "display(statisticsDF)"
   ]
  }
 ],
 "metadata": {
  "application/vnd.databricks.v1+notebook": {
   "computePreferences": null,
   "dashboards": [],
   "environmentMetadata": {
    "base_environment": "",
    "environment_version": "2"
   },
   "language": "python",
   "notebookMetadata": {
    "mostRecentlyExecutedCommandWithImplicitDF": {
     "commandId": 6177997754107422,
     "dataframes": [
      "_sqldf"
     ]
    },
    "pythonIndentUnit": 4
   },
   "notebookName": "youtube-data-analysis-transformations",
   "widgets": {}
  },
  "language_info": {
   "name": "python"
  }
 },
 "nbformat": 4,
 "nbformat_minor": 0
}
